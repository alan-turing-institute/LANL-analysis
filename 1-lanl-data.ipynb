{
 "cells": [
  {
   "cell_type": "markdown",
   "metadata": {},
   "source": [
    "# The LANL data"
   ]
  },
  {
   "cell_type": "code",
   "execution_count": 2,
   "metadata": {
    "collapsed": false
   },
   "outputs": [],
   "source": [
    "%matplotlib inline\n",
    "import matplotlib.pyplot as plt\n",
    "import numpy as np\n",
    "import igraph as ig\n",
    "import re\n",
    "\n",
    "from __future__ import print_function\n",
    "from math import log, pow\n",
    "from collections import Counter\n",
    "\n",
    "dnsfile = lanl_path + \"dns.txt\"\n",
    "flowfile = lanl_path + \"flows.txt\"\n",
    "procfile = lanl_path + \"proc.txt\""
   ]
  },
  {
   "cell_type": "markdown",
   "metadata": {},
   "source": [
    "See <a href=\"http://csr.lanl.gov/data/cyber1/\">http://csr.lanl.gov/data/cyber1/</a> for the original data descriptions and download."
   ]
  },
  {
   "cell_type": "markdown",
   "metadata": {},
   "source": [
    "# Flows"
   ]
  },
  {
   "cell_type": "markdown",
   "metadata": {},
   "source": [
    "Start by parsing the flow data and inspecting a few records:"
   ]
  },
  {
   "cell_type": "code",
   "execution_count": 3,
   "metadata": {
    "collapsed": false
   },
   "outputs": [
    {
     "data": {
      "text/plain": [
       "[[1, 0, 'C1065', '389', 'C3799', 'N10451', 6, 10, 5323],\n",
       " [1, 0, 'C1423', 'N1136', 'C1707', 'N1', 6, 5, 847],\n",
       " [1, 0, 'C1423', 'N1142', 'C1707', 'N1', 6, 5, 847],\n",
       " [1, 0, 'C14909', 'N8191', 'C5720', '2049', 6, 1, 52],\n",
       " [1, 0, 'C14909', 'N8192', 'C5720', '2049', 6, 1, 52],\n",
       " [1, 0, 'C14909', 'N8193', 'C5720', '2049', 6, 1, 52],\n",
       " [1, 0, 'C1707', 'N1', 'C1423', 'N1136', 6, 4, 414],\n",
       " [1, 0, 'C1707', 'N1', 'C1423', 'N1142', 6, 4, 413],\n",
       " [1, 0, 'C1707', 'N1', 'C925', 'N10487', 6, 4, 414],\n",
       " [1, 0, 'C1707', 'N1', 'C925', 'N10491', 6, 4, 413]]"
      ]
     },
     "execution_count": 3,
     "metadata": {},
     "output_type": "execute_result"
    }
   ],
   "source": [
    "def flow_parser(x): return  [int(x[0]), int(x[1])] \\\n",
    "                + [str(x[i]) for i in range(2,6)] \\\n",
    "                + [int(x[i]) for i in range(6,9)]\n",
    "\n",
    "flows = sc.textFile(flowfile)\\\n",
    "    .map(lambda line: flow_parser(line.split(',')))\n",
    "flows.cache()\n",
    "\n",
    "flows.take(10)"
   ]
  },
  {
   "cell_type": "markdown",
   "metadata": {},
   "source": [
    "Fields are:\n",
    "\n",
    "<ul>\n",
    "<li> timestamp\n",
    "<li> flow duration\n",
    "<li> sourse computer\n",
    "<li> source port\n",
    "<li> destination computer\n",
    "<li> destination port\n",
    "<li> protocol\n",
    "<li> number of packets\n",
    "<li> number of bytes\n",
    "</ul>\n",
    "\n",
    "Let's take an initial look at some of these:"
   ]
  },
  {
   "cell_type": "code",
   "execution_count": 43,
   "metadata": {
    "collapsed": false,
    "scrolled": true
   },
   "outputs": [
    {
     "data": {
      "text/plain": [
       "<Container object of 3 artists>"
      ]
     },
     "execution_count": 43,
     "metadata": {},
     "output_type": "execute_result"
    },
    {
     "data": {
      "image/png": "[encoded data removed]",
      "text/plain": [
       "<matplotlib.figure.Figure at 0x10dba7750>"
      ]
     },
     "metadata": {},
     "output_type": "display_data"
    }
   ],
   "source": [
    "# duration:\n",
    "\n",
    "duration_hist = flows.map(lambda x: x[1]).countByValue()\n",
    "\n",
    "plt.figure(figsize=(10,4))\n",
    "plt.yscale('log')\n",
    "plt.stem(duration_hist.keys(), duration_hist.values(), markerfmt='b.')"
   ]
  },
  {
   "cell_type": "markdown",
   "metadata": {},
   "source": [
    "Two things stand out: first, the spikes in frequency at certain 'round' duration times ()10, 30, 60 seconds - suggesting a configuration bias in the collection process. Second, the unnatural drop-off at 72 seconds - this looks like a weird cut-off rule in the collection, since most flows would be expected to need longer than a minute to completion. I'm inclined to discount the duration field in further analysis."
   ]
  },
  {
   "cell_type": "code",
   "execution_count": 129,
   "metadata": {
    "collapsed": false
   },
   "outputs": [
    {
     "data": {
      "image/png": "[encoded data removed]",
      "text/plain": [
       "<matplotlib.figure.Figure at 0x11abc3850>"
      ]
     },
     "metadata": {},
     "output_type": "display_data"
    }
   ],
   "source": [
    "# packets and bytes:\n",
    "\n",
    "packet_hist = flows.map(lambda x: int(log(x[7], 2))).countByValue()\n",
    "bytes_hist = flows.map(lambda x: int(log(x[8], 2))).countByValue()\n",
    "\n",
    "plt.figure(figsize=(10,4))\n",
    "plt.xscale('log')\n",
    "plt.yscale('log')\n",
    "x = [pow(2,t)+0.5 for t in packet_hist.keys()]\n",
    "y = [pow(2,t) for t in bytes_hist.keys()]\n",
    "h2 = plt.stem(y, bytes_hist.values(), markerfmt='bo', linefmt='b-', basefmt='b-', label='nr bytes')\n",
    "h1 = plt.stem(x, packet_hist.values(), markerfmt='ro', linefmt='r-', basefmt='r-', label='nr packets')\n",
    "plt.xlabel(\"Approx size of flow\")\n",
    "plt.ylabel(\"Frequency\")\n",
    "plt.legend(handles=[h1, h2], loc='upper right')\n",
    "plt.show()"
   ]
  },
  {
   "cell_type": "markdown",
   "metadata": {},
   "source": [
    "These are typical power law distributions we'd expect to see in the distributions of packet and byte counts. These plot don't show whether number of packets/bytes are correlated - we can see that in a 2D heat map: "
   ]
  },
  {
   "cell_type": "code",
   "execution_count": 175,
   "metadata": {
    "collapsed": false
   },
   "outputs": [
    {
     "data": {
      "text/plain": [
       "<matplotlib.colorbar.Colorbar at 0x11d421c90>"
      ]
     },
     "execution_count": 175,
     "metadata": {},
     "output_type": "execute_result"
    },
    {
     "data": {
      "image/png": "[encoded data removed]",
      "text/plain": [
       "<matplotlib.figure.Figure at 0x11c798910>"
      ]
     },
     "metadata": {},
     "output_type": "display_data"
    }
   ],
   "source": [
    "# how many bytes per packet?\n",
    "\n",
    "packet_byte_2d_hist = flows.map(lambda x: (int(log(x[7], 2)), int(log(x[8], 2)))).countByValue()\n",
    "\n",
    "a = set([x[0] for x in packet_byte_2d_hist.keys()])\n",
    "b = set([x[1] for x in packet_byte_2d_hist.keys()])\n",
    "\n",
    "mat = np.array([[0 for j in range(max(b) + 1)] for i in range(max(a) + 1)])\n",
    "for (i,j) in packet_byte_2d_hist.keys():\n",
    "    mat[i,j] = log(packet_byte_2d_hist[(i,j)], 2)\n",
    "    \n",
    "plt.figure(figsize=(6,6))\n",
    "plt.xlabel(\"log_2(nr packets)\")\n",
    "plt.ylabel(\"log_2(nr bytes)\")\n",
    "plt.title(\"log_2 heat map of bytes x packets\")\n",
    "plt.imshow(mat.transpose(), cmap='hot_r')\n",
    "plt.colorbar()"
   ]
  },
  {
   "cell_type": "markdown",
   "metadata": {},
   "source": [
    "So there's a clean linear correlation, with all flows exhibiting an <i>average</i> packet size (i.e. nr bytes/nr packets) between 32 and 1024 bytes.\n",
    "\n",
    "Next, examine the protocol field:"
   ]
  },
  {
   "cell_type": "code",
   "execution_count": 70,
   "metadata": {
    "collapsed": false
   },
   "outputs": [
    {
     "name": "stdout",
     "output_type": "stream",
     "text": [
      " 1:    3321625  2.56%\n",
      " 6:  116550579  89.7%\n",
      "17:   10104702  7.77%\n",
      "41:        506  0.000389%\n"
     ]
    }
   ],
   "source": [
    "# protocol:\n",
    "\n",
    "protocol_hist = flows.map(lambda x: x[6]).countByValue()\n",
    "\n",
    "n = sum(protocol_hist.values())\n",
    "for p in sorted(protocol_hist.keys()):\n",
    "    print('{0:2d}: {1:10d}  {2:2.3}%'.format(p, protocol_hist[p], 100.0*protocol_hist[p]/n))"
   ]
  },
  {
   "cell_type": "markdown",
   "metadata": {},
   "source": [
    "Protocols 1, 6, 17, 41 denote ICMP, TCP, UDP and IPv6 encapsulation respectively. (See this <a href=\"https://en.wikipedia.org/wiki/List_of_IP_protocol_numbers\">Wikipedia guide</a>.)\n",
    "\n",
    "We now compare the two columns 'src' and 'dst'. Observing that the values are essential drawn from the same set, it follows that this pair of columns naturally defines edges of a graph (weighted by frequency):"
   ]
  },
  {
   "cell_type": "code",
   "execution_count": 20,
   "metadata": {
    "collapsed": false
   },
   "outputs": [
    {
     "name": "stdout",
     "output_type": "stream",
     "text": [
      "Sources:      11154\n",
      "Destinations:  8711\n",
      "Union:        12027\n",
      "Intersection:  7838\n"
     ]
    }
   ],
   "source": [
    "# computers:\n",
    "\n",
    "computer_edgelist = flows.map(lambda x: (x[2], x[4])).countByValue()\n",
    "\n",
    "src_set = set([x[0][0] for x in computer_edgelist.items()])\n",
    "dst_set = set([x[0][1] for x in computer_edgelist.items()])\n",
    "\n",
    "print(\"Sources:     \", len(src_set))\n",
    "print(\"Destinations: \", len(dst_set))\n",
    "print(\"Union:       \", len(src_set.union(dst_set)))\n",
    "print(\"Intersection: \", len(src_set.intersection(dst_set)))"
   ]
  },
  {
   "cell_type": "markdown",
   "metadata": {},
   "source": [
    "We can check elementary properties of this graph, such as connectivity:"
   ]
  },
  {
   "cell_type": "code",
   "execution_count": 98,
   "metadata": {
    "collapsed": false
   },
   "outputs": [
    {
     "data": {
      "text/plain": [
       "True"
      ]
     },
     "execution_count": 98,
     "metadata": {},
     "output_type": "execute_result"
    }
   ],
   "source": [
    "# to use Python igraph (compared with R) we have to write our own vertex indexing (?!)\n",
    "\n",
    "nv = len(src_set.union(dst_set))\n",
    "vlookup = dict(zip(range(nv), list(src_set.union(dst_set))))\n",
    "ilookup = dict(zip(list(src_set.union(dst_set)), range(nv)))\n",
    "elist = [[ilookup[k[0]], ilookup[k[1]]] for k in computer_edgelist.keys()]\n",
    "\n",
    "flow_graph = ig.Graph(nv)\n",
    "flow_graph.add_edges(elist)\n",
    "\n",
    "flow_graph.is_connected()"
   ]
  },
  {
   "cell_type": "markdown",
   "metadata": {},
   "source": [
    "We could in principle get further information 'for free' from these graphs. For example, restricting the computer-to-computer graph to records with <i>proto = 1</i> (that is, ICMP flows) gives some immediate clustering:\n",
    "<img src=\"img/icmp_graph.png\" style=\"width:500px\" align=\"left\">\n"
   ]
  },
  {
   "cell_type": "markdown",
   "metadata": {},
   "source": [
    "But let's not pursue that here. Instead, compare the source and destination port fields. The port values are all either '\\d+' (actual) or 'N\\d+' (anonymised). We'll cheat a bit and assume this is known, and normalise the anonymised ones to a single value."
   ]
  },
  {
   "cell_type": "code",
   "execution_count": 9,
   "metadata": {
    "collapsed": false
   },
   "outputs": [
    {
     "name": "stdout",
     "output_type": "stream",
     "text": [
      "Sources:       324\n",
      "Destinations:  326\n",
      "Union:         326\n",
      "Intersection:  324\n"
     ]
    }
   ],
   "source": [
    "# ports:\n",
    "\n",
    "def normalise(s):\n",
    "    if re.search('^N', s): return 'N'\n",
    "    else: return s\n",
    "\n",
    "port_edgelist = flows\\\n",
    "                .map(lambda x: (normalise(x[3]), normalise(x[5])))\\\n",
    "                .countByValue()    \n",
    "\n",
    "src_pt_set = set([x[0] for x in port_edgelist.keys()])\n",
    "dst_pt_set = set([x[1] for x in port_edgelist.keys()])\n",
    "int_pt_set = src_pt_set.intersection(dst_pt_set)\n",
    "\n",
    "print(\"Sources:      \", len(src_pt_set))\n",
    "print(\"Destinations: \", len(dst_pt_set))\n",
    "print(\"Union:        \", len(src_pt_set.union(dst_pt_set)))\n",
    "print(\"Intersection: \", len(int_pt_set))"
   ]
  },
  {
   "cell_type": "code",
   "execution_count": 129,
   "metadata": {
    "collapsed": false
   },
   "outputs": [
    {
     "data": {
      "text/plain": [
       "PythonRDD[2] at RDD at PythonRDD.scala:43"
      ]
     },
     "execution_count": 129,
     "metadata": {},
     "output_type": "execute_result"
    }
   ],
   "source": [
    "flows.unpersist()"
   ]
  },
  {
   "cell_type": "markdown",
   "metadata": {},
   "source": [
    "# DNS"
   ]
  },
  {
   "cell_type": "code",
   "execution_count": 130,
   "metadata": {
    "collapsed": false
   },
   "outputs": [
    {
     "data": {
      "text/plain": [
       "[[2, 'C4653', 'C5030'],\n",
       " [2, 'C5782', 'C16712'],\n",
       " [6, 'C1191', 'C419'],\n",
       " [15, 'C3380', 'C22841'],\n",
       " [18, 'C2436', 'C5030'],\n",
       " [31, 'C161', 'C2109'],\n",
       " [35, 'C5642', 'C528'],\n",
       " [38, 'C3380', 'C22841'],\n",
       " [42, 'C2428', 'C1065'],\n",
       " [42, 'C2428', 'C2109']]"
      ]
     },
     "execution_count": 130,
     "metadata": {},
     "output_type": "execute_result"
    }
   ],
   "source": [
    "def dns_parser(x): return [int(x[0])] \\\n",
    "               + [str(x[i]) for i in range(1,len(x))]\n",
    "\n",
    "dns = sc.textFile(dnsfile)\\\n",
    "    .map(lambda line: dns_parser(line.split(',')))\n",
    "dns.take(10)"
   ]
  },
  {
   "cell_type": "markdown",
   "metadata": {},
   "source": [
    "Fields are:\n",
    "\n",
    "<ul>\n",
    "<li> timestamp\n",
    "<li> requesting computer\n",
    "<li> requested computer\n",
    "</ul>\n",
    "\n",
    "We'll focus on the computers and return to consider timestamps in the second notebook.\n",
    "\n",
    "As for flows, we can observe that two columns take values in (essentially) the same set, and hence define a graph:"
   ]
  },
  {
   "cell_type": "code",
   "execution_count": 132,
   "metadata": {
    "collapsed": false
   },
   "outputs": [
    {
     "name": "stdout",
     "output_type": "stream",
     "text": [
      "Sources:       15013\n",
      "Destinations:  13776\n",
      "Union:         15329\n",
      "Intersection:  13493\n"
     ]
    }
   ],
   "source": [
    "# computers:\n",
    "\n",
    "dns_edgelist = dns.map(lambda x: (x[1], x[2])).countByValue()\n",
    "\n",
    "dns_src_set = set([x[0][0] for x in dns_edgelist.items()])\n",
    "dns_dst_set = set([x[0][1] for x in dns_edgelist.items()])\n",
    "\n",
    "print(\"Sources:      \", len(dns_src_set))\n",
    "print(\"Destinations: \", len(dns_dst_set))\n",
    "print(\"Union:        \", len(dns_src_set.union(dst_set)))\n",
    "print(\"Intersection: \", len(dns_src_set.intersection(dst_set)))"
   ]
  },
  {
   "cell_type": "code",
   "execution_count": 158,
   "metadata": {
    "collapsed": false
   },
   "outputs": [
    {
     "name": "stdout",
     "output_type": "stream",
     "text": [
      "Nr DNS requests: 40821591\n",
      "Nr self-requests:  865039\n",
      "Nr computers:       15329\n",
      "Nr self-requesters:  1434\n"
     ]
    }
   ],
   "source": [
    "self_dns = dns.filter(lambda x: x[1]==x[2]).collect()\n",
    "nr_dns = dns.count()\n",
    "\n",
    "print(\"Nr DNS requests:\", nr_dns)\n",
    "print(\"Nr self-requests: \", len(self_dns))\n",
    "print(\"Nr computers:      \", len(dns_src_set.union(dst_set)))\n",
    "print(\"Nr self-requesters: \", len(set([x[1] for x in self_dns])))"
   ]
  },
  {
   "cell_type": "code",
   "execution_count": 160,
   "metadata": {
    "collapsed": false
   },
   "outputs": [
    {
     "data": {
      "text/plain": [
       "False"
      ]
     },
     "execution_count": 160,
     "metadata": {},
     "output_type": "execute_result"
    }
   ],
   "source": [
    "# the graph:\n",
    "\n",
    "dns_nv = len(dns_src_set.union(dns_dst_set))\n",
    "dns_vlookup = dict(zip(range(dns_nv), list(dns_src_set.union(dns_dst_set))))\n",
    "dns_ilookup = dict(zip(list(dns_src_set.union(dns_dst_set)), range(dns_nv)))\n",
    "dns_elist = [[dns_ilookup[k[0]], dns_ilookup[k[1]]] for k in dns_edgelist.keys()]\n",
    "\n",
    "dns_graph = ig.Graph(dns_nv)\n",
    "dns_graph.add_edges(dns_elist)\n",
    "\n",
    "dns_graph.is_connected()"
   ]
  },
  {
   "cell_type": "markdown",
   "metadata": {},
   "source": [
    "Though in this case further analysis shows that the graph is connected apart from a single singleton node that is self-requesting - not unusual in the data, but other self-requesters are also connected to the main graph.\n",
    "\n",
    "But let's move on."
   ]
  },
  {
   "cell_type": "markdown",
   "metadata": {},
   "source": [
    "# Processes"
   ]
  },
  {
   "cell_type": "markdown",
   "metadata": {},
   "source": [
    "The original data in this file looks like:\n",
    "\n",
    "<code>\n",
    "1,C553$@DOM1,C553,P16,Start\n",
    "1,C553$@DOM1,C553,P25,End\n",
    "1,C553$@DOM1,C553,P25,Start\n",
    "</code>\n",
    "\n",
    "So we either have to learn that every record takes roughly this form, or we assume it's known. We'll break out the second column into two fields separated by '@':"
   ]
  },
  {
   "cell_type": "code",
   "execution_count": 10,
   "metadata": {
    "collapsed": false,
    "scrolled": true
   },
   "outputs": [
    {
     "data": {
      "text/plain": [
       "[[1, 'C1$', 'DOM1', 'C1', 'P16', 'Start'],\n",
       " [1, 'C1001$', 'DOM1', 'C1001', 'P4', 'Start'],\n",
       " [1, 'C1002$', 'DOM1', 'C1002', 'P4', 'Start'],\n",
       " [1, 'C1004$', 'DOM1', 'C1004', 'P4', 'Start'],\n",
       " [1, 'C1017$', 'DOM1', 'C1017', 'P4', 'Start'],\n",
       " [1, 'C1018$', 'DOM1', 'C1018', 'P4', 'Start'],\n",
       " [1, 'C1020$', 'DOM1', 'C1020', 'P3', 'Start'],\n",
       " [1, 'C1020$', 'DOM1', 'C1020', 'P4', 'Start'],\n",
       " [1, 'C1028$', 'DOM1', 'C1028', 'P16', 'End'],\n",
       " [1, 'C1029$', 'DOM1', 'C1029', 'P4', 'Start']]"
      ]
     },
     "execution_count": 10,
     "metadata": {},
     "output_type": "execute_result"
    }
   ],
   "source": [
    "def proc_parser(x):\n",
    "    n = len(x)\n",
    "    return  [int(x[0])] + str(x[1]).split('@') + [str(x[i]) for i in range(2,n)]\n",
    "\n",
    "procs = sc.textFile(procfile)\\\n",
    "    .map(lambda line: proc_parser(line.split(',')))\n",
    "procs.take(10)"
   ]
  },
  {
   "cell_type": "markdown",
   "metadata": {},
   "source": [
    "Fields are:\n",
    "\n",
    "<ul>\n",
    "<li> timestamp\n",
    "<li> user\n",
    "<li> domain\n",
    "<li> computer\n",
    "<li> process id\n",
    "<li> start/end\n",
    "</ul>\n",
    "\n",
    "Let's check the frequency distribution for values of the domain/computer/process columns. We also include the flow edges (computed earlier):"
   ]
  },
  {
   "cell_type": "code",
   "execution_count": 21,
   "metadata": {
    "collapsed": false
   },
   "outputs": [
    {
     "name": "stdout",
     "output_type": "stream",
     "text": [
      "Nr domains:     10259\n",
      "Nr computers:   11960\n",
      "Nr processes:   62974\n",
      "Nr flow edges: 162157\n"
     ]
    },
    {
     "data": {
      "image/png": "[encoded data removed]",
      "text/plain": [
       "<matplotlib.figure.Figure at 0x10b1f41d0>"
      ]
     },
     "metadata": {},
     "output_type": "display_data"
    }
   ],
   "source": [
    "domains = procs.map(lambda x: x[2]).countByValue()\n",
    "computers = procs.map(lambda x: x[3]).countByValue()\n",
    "processes = procs.map(lambda x: x[4]).countByValue()\n",
    "\n",
    "print(\"Nr domains:    \", len(domains.keys()))\n",
    "print(\"Nr computers:  \", len(computers.keys()))\n",
    "print(\"Nr processes:  \", len(processes.keys()))\n",
    "print(\"Nr flow edges:\", len(computer_edgelist.keys()))\n",
    "\n",
    "plt.figure(figsize=(15,4))\n",
    "plt.xscale(\"log\")\n",
    "plt.yscale(\"log\")\n",
    "p1, = plt.plot(sorted(domains.values()), label=\"domains\")\n",
    "p2, = plt.plot(sorted(computers.values()), label=\"computers\")\n",
    "p3, = plt.plot(sorted(processes.values()), label=\"processes\")\n",
    "p4, = plt.plot(sorted(computer_edgelist.values()), label=\"edges\")\n",
    "plt.legend(handles=[p1,p2,p3,p4], loc='upper left')\n",
    "plt.xlabel(\"Field value sorted by frequency\")\n",
    "plt.ylabel(\"Frequency\")\n",
    "plt.show()"
   ]
  },
  {
   "cell_type": "code",
   "execution_count": 205,
   "metadata": {
    "collapsed": false
   },
   "outputs": [
    {
     "name": "stdout",
     "output_type": "stream",
     "text": [
      "Network-busy pairs:     308\n",
      "Network-busy computers: 250\n",
      "Process-busy computers: 296\n",
      "Union:                  531\n",
      "Intersection:            15\n"
     ]
    }
   ],
   "source": [
    "computer_busyness = 1e05\n",
    "edge_busyness = 2e04\n",
    "\n",
    "busy_computers = set([k for k in computers.keys() if computers[k] > computer_busyness])\n",
    "busy_edges = set([k for k in computer_edgelist.keys() if computer_edgelist[k] > edge_busyness])\n",
    "busy_nodes = set([e[0] for e in busy_edges]).union(set([e[1] for e in busy_edges]))\n",
    "\n",
    "print(\"Network-busy pairs:    \", len(busy_edges))\n",
    "print(\"Network-busy computers:\", len(busy_nodes))\n",
    "print(\"Process-busy computers:\", len(busy_computers))\n",
    "print(\"Union:                 \", len(busy_computers.union(busy_nodes)))\n",
    "print(\"Intersection:           \", len(busy_computers.intersection(busy_nodes)))"
   ]
  },
  {
   "cell_type": "code",
   "execution_count": 209,
   "metadata": {
    "collapsed": false
   },
   "outputs": [
    {
     "name": "stdout",
     "output_type": "stream",
     "text": [
      "set(['C6055', 'C2321', 'C12665', 'C1065', 'C2519', 'C674', 'C10089', 'C3173', 'C1707', 'C1685', 'C2696', 'C14714', 'C14870', 'C1654', 'C458'])\n"
     ]
    }
   ],
   "source": [
    "heavy_hitters = busy_computers.intersection(busy_nodes)\n",
    "print(heavy_hitters)"
   ]
  },
  {
   "cell_type": "markdown",
   "metadata": {},
   "source": [
    "How many values in the 'domain' field, and what do they look like?"
   ]
  },
  {
   "cell_type": "code",
   "execution_count": 17,
   "metadata": {
    "collapsed": false,
    "scrolled": false
   },
   "outputs": [
    {
     "name": "stdout",
     "output_type": "stream",
     "text": [
      "Nr domains:  10259 \n",
      "\n",
      "DOM1   :  395959855\n",
      "DOM3   :     620713\n",
      "DOM4   :     138989\n",
      "DOM5   :      89532\n",
      "DOM6   :      46118\n",
      "DOM2   :      30620\n",
      "DOM51  :      15955\n",
      "DOM267 :       1848\n",
      "DOM106 :        654\n",
      "DOM178 :        464\n",
      "DOM316 :        463\n",
      "DOM42  :        444\n",
      "DOM256 :        365\n",
      "DOM214 :        305\n",
      "DOM85  :        207\n",
      "DOM121 :        204\n",
      "DOM277 :        158\n",
      "DOM55  :        153\n",
      "DOM274 :        113\n",
      "DOM276 :         91\n",
      "DOM273 :         72\n",
      "DOM91  :         70\n",
      "DOM272 :         68\n",
      "DOM296 :         66\n",
      "DOM246 :         57\n",
      "DOM236 :         57\n",
      "DOM351 :         56\n",
      "DOM186 :         53\n",
      "DOM210 :         39\n",
      "DOM247 :         39\n",
      "DOM27  :         19\n",
      "DOM43  :          1\n",
      "DOM38  :          1\n",
      "DOM33  :          1\n"
     ]
    }
   ],
   "source": [
    "# domains:\n",
    "\n",
    "import re\n",
    "\n",
    "domains = procs.map(lambda x: x[2])\n",
    "domain_hist = domains.countByValue()\n",
    "\n",
    "print(\"Nr domains: \", len(domain_hist.keys()), \"\\n\")\n",
    "for x in sorted(domain_hist.keys(), key=lambda k: domain_hist[k], reverse=True):\n",
    "    if not re.search('^C\\d+', x):\n",
    "        print('{0:7s}: {1:10d}'.format(x, domain_hist[x]))"
   ]
  },
  {
   "cell_type": "markdown",
   "metadata": {},
   "source": [
    "Domain frequency has (as we'd expect) a power law distribution. 'DOM1' is the giant far out on lower right:"
   ]
  },
  {
   "cell_type": "code",
   "execution_count": 18,
   "metadata": {
    "collapsed": false,
    "scrolled": false
   },
   "outputs": [
    {
     "data": {
      "text/plain": [
       "<matplotlib.text.Text at 0x10a935490>"
      ]
     },
     "execution_count": 18,
     "metadata": {},
     "output_type": "execute_result"
    },
    {
     "data": {
      "image/png": "[encoded data removed]",
      "text/plain": [
       "<matplotlib.figure.Figure at 0x10a0e5c50>"
      ]
     },
     "metadata": {},
     "output_type": "display_data"
    }
   ],
   "source": [
    "freq = Counter(domain_hist.values())\n",
    "\n",
    "fig = plt.figure(figsize=(10,5))\n",
    "size = [30*log(x,10) for x in freq.keys()]\n",
    "plt.xlim(xmin=7e-01, xmax=1e09)\n",
    "plt.ylim(ymin=7e-01, ymax=1e03)\n",
    "plt.yscale('log')\n",
    "plt.xscale('log')\n",
    "plt.scatter(freq.keys(), freq.values(), s=size, alpha=0.3)\n",
    "plt.xlabel(\"Domain size\")\n",
    "plt.ylabel(\"Frequency\")"
   ]
  },
  {
   "cell_type": "markdown",
   "metadata": {
    "collapsed": true
   },
   "source": [
    "<h2>Conclusions</h2>\n",
    "\n",
    "We examine three data sets of computer network activity:\n",
    "\n",
    "<ol>\n",
    "<li> flows: 5.24 GB, 130M events\n",
    "<li> processes: 15.4GB, 426M events\n",
    "<li> DNS requests: 813 MB, 40M events.\n",
    "</ol>\n",
    "\n",
    "<h2>TADA: meeting the data</h2>\n",
    "\n",
    "These data sets are in tabular form without missing values. (In general, one should deal also with .json and similar formats, and with images and unstructured text as well.) They are anonymised, which gives us the additional challenge of recovering structure that is supposedly removed by the anonymisation where we can.\n",
    "\n",
    "In initial exploration of the data, the sorts of things we need to automate and provide to the user 'free of charge' are discovery and presentation of:\n",
    "\n",
    "<ul>\n",
    "<li> any numerical fields, especially timestamps (see next notebook);\n",
    "<li> statistical distributions in numerical fields including outliers and anomalous boundaries;\n",
    "<li> numerical correlations among fields;\n",
    "<li> frequency distributions in categorical fields;\n",
    "<li> categorical fields drawing from common alphabets;\n",
    "<li> string structure in categorical labels (e.g. regular expression characterisations);\n",
    "<li> heavy hitters in power law distributions, including decisions on hard or soft thresholds;\n",
    "<li> graph structures that occur in the data, and elementary graph features.\n",
    "</ul>\n",
    "\n",
    "A key aspect is visualisation. The human analytic process (what to compute, where to go next) is fundamentally driven by data visualisation. ADAP needs, on the one hand, to remove the need for visualisation in analytic decision-making, while on the other hand presenting its findings via appropriate visualisations.\n",
    "\n",
    "When ADAP reports on a data set, what format would we like for the output? How about a Jupyter notebook! "
   ]
  }
 ],
 "metadata": {
  "kernelspec": {
   "display_name": "pySpark",
   "language": "python",
   "name": "pyspark"
  },
  "language_info": {
   "codemirror_mode": {
    "name": "ipython",
    "version": 2
   },
   "file_extension": ".py",
   "mimetype": "text/x-python",
   "name": "python",
   "nbconvert_exporter": "python",
   "pygments_lexer": "ipython2",
   "version": "2.7.11"
  }
 },
 "nbformat": 4,
 "nbformat_minor": 0
}
