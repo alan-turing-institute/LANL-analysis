{
 "cells": [
  {
   "cell_type": "markdown",
   "metadata": {},
   "source": [
    "# Process P265: correlation with netflow"
   ]
  },
  {
   "cell_type": "code",
   "execution_count": 2,
   "metadata": {
    "collapsed": true
   },
   "outputs": [],
   "source": [
    "# initialise:\n",
    "\n",
    "%run /Users/etc/Projects/201612-lanl-analysis/LANL-analysis/0-lanl-init.ipynb"
   ]
  },
  {
   "cell_type": "code",
   "execution_count": 20,
   "metadata": {
    "collapsed": false
   },
   "outputs": [],
   "source": [
    "%matplotlib inline\n",
    "import matplotlib.pyplot as plt\n",
    "import numpy as np\n",
    "import igraph as ig\n",
    "\n",
    "from math import log\n",
    "from collections import Counter\n",
    "from __future__ import print_function\n",
    "\n",
    "binsize = 3600\n",
    "maxhour = 400\n",
    "\n",
    "def counter(dat, binsize=3600):\n",
    "    return Counter([t/binsize for t in dat])\n",
    "\n",
    "def reduce(input, binsize=3600, maxhour=400):\n",
    "    c = input[0]\n",
    "    d = input[1]\n",
    "    r = maxhour * 3600/binsize\n",
    "    for x in range(r):\n",
    "        if x not in d.keys():\n",
    "            d[x] = 0\n",
    "    return [([c,k], v) for (k,v) in d.items() if k < r]\n",
    "\n",
    "p265_comphour_activity = p265_comps\\\n",
    "                        .map(lambda x : (x[0], counter(list(x[1]), binsize=binsize)))\\\n",
    "                        .flatMap(lambda x: reduce(x, binsize=binsize, maxhour=maxhour))"
   ]
  },
  {
   "cell_type": "code",
   "execution_count": 15,
   "metadata": {
    "collapsed": false
   },
   "outputs": [
    {
     "data": {
      "text/plain": [
       "16132"
      ]
     },
     "execution_count": 15,
     "metadata": {},
     "output_type": "execute_result"
    }
   ],
   "source": [
    "# make a list of P265-heavy-hitter computer-hours (up to maxhour by construction):\n",
    "\n",
    "busyness = 200 * binsize/3600\n",
    "\n",
    "hh_comphours = p265_comphour_activity\\\n",
    "                .filter(lambda x: x[1] > busyness)\\\n",
    "                .map(lambda x: x[0])\\\n",
    "                .collect()\n",
    "hh_comphours = set([(c,h) for [c,h] in hh_comphours])\n",
    "len(hh_comphours)"
   ]
  },
  {
   "cell_type": "code",
   "execution_count": 22,
   "metadata": {
    "collapsed": false
   },
   "outputs": [
    {
     "data": {
      "text/plain": [
       "PythonRDD[37] at RDD at PythonRDD.scala:43"
      ]
     },
     "execution_count": 22,
     "metadata": {},
     "output_type": "execute_result"
    }
   ],
   "source": [
    "def is_heavy_hitter(f):\n",
    "    src_comp = f[2]\n",
    "    dst_comp = f[4]\n",
    "    hour = f[0]/binsize\n",
    "    if ((src_comp, hour) in hh_comphours) or ((dst_comp, hour) in hh_comphours):\n",
    "        return True\n",
    "    return False\n",
    "\n",
    "p265_hh_flows = flows.filter(is_heavy_hitter)\n",
    "p265_hh_flows.cache()"
   ]
  },
  {
   "cell_type": "code",
   "execution_count": 23,
   "metadata": {
    "collapsed": false
   },
   "outputs": [
    {
     "name": "stdout",
     "output_type": "stream",
     "text": [
      " 1:      11362  1.53%\n",
      " 6:     676521  91.0%\n",
      "17:      55649  7.48%\n"
     ]
    }
   ],
   "source": [
    "# protocol distribution in these computer-hours:\n",
    "\n",
    "p265_hh_protocol_hist = p265_hh_flows\\\n",
    "                        .map(lambda x: x[6])\\\n",
    "                        .countByValue()\n",
    "\n",
    "n = sum(p265_hh_protocol_hist.values())\n",
    "for p in sorted(p265_hh_protocol_hist.keys()):\n",
    "    print('{0:2d}: {1:10d}  {2:2.3}%'\\\n",
    "            .format(p, p265_hh_protocol_hist[p], 100.0*p265_hh_protocol_hist[p]/n))"
   ]
  },
  {
   "cell_type": "code",
   "execution_count": 32,
   "metadata": {
    "collapsed": false
   },
   "outputs": [
    {
     "name": "stdout",
     "output_type": "stream",
     "text": [
      "Sources:       5798\n",
      "Destinations:  5576\n",
      "Union:         6700\n",
      "Intersection:  4674\n"
     ]
    }
   ],
   "source": [
    "# computers:\n",
    "\n",
    "computer_edgelist = p265_hh_flows.map(lambda x: (x[2], x[4])).countByValue()\n",
    "\n",
    "src_set = set([x[0][0] for x in computer_edgelist.items()])\n",
    "dst_set = set([x[0][1] for x in computer_edgelist.items()])\n",
    "\n",
    "print(\"Sources:      \", len(src_set))\n",
    "print(\"Destinations: \", len(dst_set))\n",
    "print(\"Union:        \", len(src_set.union(dst_set)))\n",
    "print(\"Intersection: \", len(src_set.intersection(dst_set)))"
   ]
  },
  {
   "cell_type": "code",
   "execution_count": null,
   "metadata": {
    "collapsed": false
   },
   "outputs": [],
   "source": []
  }
 ],
 "metadata": {
  "kernelspec": {
   "display_name": "pySpark",
   "language": "python",
   "name": "pyspark"
  },
  "language_info": {
   "codemirror_mode": {
    "name": "ipython",
    "version": 2
   },
   "file_extension": ".py",
   "mimetype": "text/x-python",
   "name": "python",
   "nbconvert_exporter": "python",
   "pygments_lexer": "ipython2",
   "version": "2.7.11"
  }
 },
 "nbformat": 4,
 "nbformat_minor": 0
}
